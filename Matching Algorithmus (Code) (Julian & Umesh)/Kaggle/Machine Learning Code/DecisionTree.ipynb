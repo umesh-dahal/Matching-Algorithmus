{
 "cells": [
  {
   "cell_type": "code",
   "execution_count": 1,
   "id": "54748a7e-f257-4e3f-98cc-e25fcf3ff52e",
   "metadata": {},
   "outputs": [],
   "source": [
    "import pandas as pd\n",
    "import fill_in_job as fill_in_job\n",
    "# Read the CSV file\n",
    "data = pd.read_csv('C:\\\\Users\\\\jul\\\\Desktop\\\\web\\\\Matched_To_Frontenddfull.csv')\n",
    "\n",
    "# the first three columns are not used for the matching\n",
    "X = data.iloc[:, 3:] \n",
    "#the  second collumn is the classifier points (0 to ...)\n",
    "#can be changed to 0 first collumn for match (1 or 0)\n",
    "y = data.iloc[:, 1]  \n",
    "\n",
    "# Split into training  and test datasets\n",
    "#can be changed for different size of dataset\n",
    "learndata, testdata = X[:8001], X[8001:]\n",
    "learndata_y, testdata_y = y[:8001], y[8001:]\n"
   ]
  },
  {
   "cell_type": "code",
   "execution_count": 2,
   "id": "299ee8f8-6f55-4978-944d-be504802ebad",
   "metadata": {},
   "outputs": [
    {
     "data": {
      "text/html": [
       "<style>#sk-container-id-1 {color: black;}#sk-container-id-1 pre{padding: 0;}#sk-container-id-1 div.sk-toggleable {background-color: white;}#sk-container-id-1 label.sk-toggleable__label {cursor: pointer;display: block;width: 100%;margin-bottom: 0;padding: 0.3em;box-sizing: border-box;text-align: center;}#sk-container-id-1 label.sk-toggleable__label-arrow:before {content: \"▸\";float: left;margin-right: 0.25em;color: #696969;}#sk-container-id-1 label.sk-toggleable__label-arrow:hover:before {color: black;}#sk-container-id-1 div.sk-estimator:hover label.sk-toggleable__label-arrow:before {color: black;}#sk-container-id-1 div.sk-toggleable__content {max-height: 0;max-width: 0;overflow: hidden;text-align: left;background-color: #f0f8ff;}#sk-container-id-1 div.sk-toggleable__content pre {margin: 0.2em;color: black;border-radius: 0.25em;background-color: #f0f8ff;}#sk-container-id-1 input.sk-toggleable__control:checked~div.sk-toggleable__content {max-height: 200px;max-width: 100%;overflow: auto;}#sk-container-id-1 input.sk-toggleable__control:checked~label.sk-toggleable__label-arrow:before {content: \"▾\";}#sk-container-id-1 div.sk-estimator input.sk-toggleable__control:checked~label.sk-toggleable__label {background-color: #d4ebff;}#sk-container-id-1 div.sk-label input.sk-toggleable__control:checked~label.sk-toggleable__label {background-color: #d4ebff;}#sk-container-id-1 input.sk-hidden--visually {border: 0;clip: rect(1px 1px 1px 1px);clip: rect(1px, 1px, 1px, 1px);height: 1px;margin: -1px;overflow: hidden;padding: 0;position: absolute;width: 1px;}#sk-container-id-1 div.sk-estimator {font-family: monospace;background-color: #f0f8ff;border: 1px dotted black;border-radius: 0.25em;box-sizing: border-box;margin-bottom: 0.5em;}#sk-container-id-1 div.sk-estimator:hover {background-color: #d4ebff;}#sk-container-id-1 div.sk-parallel-item::after {content: \"\";width: 100%;border-bottom: 1px solid gray;flex-grow: 1;}#sk-container-id-1 div.sk-label:hover label.sk-toggleable__label {background-color: #d4ebff;}#sk-container-id-1 div.sk-serial::before {content: \"\";position: absolute;border-left: 1px solid gray;box-sizing: border-box;top: 0;bottom: 0;left: 50%;z-index: 0;}#sk-container-id-1 div.sk-serial {display: flex;flex-direction: column;align-items: center;background-color: white;padding-right: 0.2em;padding-left: 0.2em;position: relative;}#sk-container-id-1 div.sk-item {position: relative;z-index: 1;}#sk-container-id-1 div.sk-parallel {display: flex;align-items: stretch;justify-content: center;background-color: white;position: relative;}#sk-container-id-1 div.sk-item::before, #sk-container-id-1 div.sk-parallel-item::before {content: \"\";position: absolute;border-left: 1px solid gray;box-sizing: border-box;top: 0;bottom: 0;left: 50%;z-index: -1;}#sk-container-id-1 div.sk-parallel-item {display: flex;flex-direction: column;z-index: 1;position: relative;background-color: white;}#sk-container-id-1 div.sk-parallel-item:first-child::after {align-self: flex-end;width: 50%;}#sk-container-id-1 div.sk-parallel-item:last-child::after {align-self: flex-start;width: 50%;}#sk-container-id-1 div.sk-parallel-item:only-child::after {width: 0;}#sk-container-id-1 div.sk-dashed-wrapped {border: 1px dashed gray;margin: 0 0.4em 0.5em 0.4em;box-sizing: border-box;padding-bottom: 0.4em;background-color: white;}#sk-container-id-1 div.sk-label label {font-family: monospace;font-weight: bold;display: inline-block;line-height: 1.2em;}#sk-container-id-1 div.sk-label-container {text-align: center;}#sk-container-id-1 div.sk-container {/* jupyter's `normalize.less` sets `[hidden] { display: none; }` but bootstrap.min.css set `[hidden] { display: none !important; }` so we also need the `!important` here to be able to override the default hidden behavior on the sphinx rendered scikit-learn.org. See: https://github.com/scikit-learn/scikit-learn/issues/21755 */display: inline-block !important;position: relative;}#sk-container-id-1 div.sk-text-repr-fallback {display: none;}</style><div id=\"sk-container-id-1\" class=\"sk-top-container\"><div class=\"sk-text-repr-fallback\"><pre>DecisionTreeClassifier(random_state=321)</pre><b>In a Jupyter environment, please rerun this cell to show the HTML representation or trust the notebook. <br />On GitHub, the HTML representation is unable to render, please try loading this page with nbviewer.org.</b></div><div class=\"sk-container\" hidden><div class=\"sk-item\"><div class=\"sk-estimator sk-toggleable\"><input class=\"sk-toggleable__control sk-hidden--visually\" id=\"sk-estimator-id-1\" type=\"checkbox\" checked><label for=\"sk-estimator-id-1\" class=\"sk-toggleable__label sk-toggleable__label-arrow\">DecisionTreeClassifier</label><div class=\"sk-toggleable__content\"><pre>DecisionTreeClassifier(random_state=321)</pre></div></div></div></div></div>"
      ],
      "text/plain": [
       "DecisionTreeClassifier(random_state=321)"
      ]
     },
     "execution_count": 2,
     "metadata": {},
     "output_type": "execute_result"
    }
   ],
   "source": [
    "from sklearn.tree import DecisionTreeClassifier\n",
    "\n",
    "# creates the decision tree classifier\n",
    "classifier = DecisionTreeClassifier(random_state=321)\n",
    "\n",
    "# trains the decision tree with the learning data\n",
    "classifier.fit(learndata, learndata_y)\n"
   ]
  },
  {
   "cell_type": "code",
   "execution_count": 3,
   "id": "c2d4b2db",
   "metadata": {},
   "outputs": [
    {
     "name": "stdout",
     "output_type": "stream",
     "text": [
      "Accuracy: 0.9534767383691846\n"
     ]
    }
   ],
   "source": [
    "from sklearn.metrics import accuracy_score\n",
    "import matplotlib.pyplot as plt\n",
    "from sklearn.tree import plot_tree\n",
    "\n",
    "# makes prediction for the testdata from the knowledge of the learning data\n",
    "#prediction is either 0 or 1 for match or 0 to ... for points\n",
    "predictions = classifier.predict(testdata)\n",
    "\n",
    "# Calculate accuracy by comparing the predicted values from either the points or match \n",
    "# with the actual values from the testdata\n",
    "accuracy = accuracy_score(testdata_y, predictions)\n",
    "print(f\"Accuracy: {accuracy}\")\n"
   ]
  },
  {
   "cell_type": "code",
   "execution_count": 4,
   "id": "9e545194",
   "metadata": {},
   "outputs": [
    {
     "name": "stdout",
     "output_type": "stream",
     "text": [
      "Prediction: 250 | Actual: 240 | Full Name: 8003| points: 240\n",
      "Prediction: 180 | Actual: 230 | Full Name: 8018| points: 230\n",
      "Prediction: 200 | Actual: 210 | Full Name: 8027| points: 210\n",
      "Prediction: 270 | Actual: 220 | Full Name: 8028| points: 220\n",
      "Prediction: 190 | Actual: 200 | Full Name: 8051| points: 200\n",
      "Prediction: 240 | Actual: 250 | Full Name: 8091| points: 250\n",
      "Prediction: 180 | Actual: 130 | Full Name: 8098| points: 130\n",
      "Prediction: 1260 | Actual: 1250 | Full Name: 8105| points: 1250\n",
      "Prediction: 240 | Actual: 230 | Full Name: 8113| points: 230\n",
      "Prediction: 240 | Actual: 250 | Full Name: 8173| points: 250\n",
      "Prediction: 260 | Actual: 160 | Full Name: 8185| points: 160\n",
      "Prediction: 270 | Actual: 220 | Full Name: 8293| points: 220\n",
      "Prediction: 260 | Actual: 250 | Full Name: 8344| points: 250\n",
      "Prediction: 230 | Actual: 250 | Full Name: 8358| points: 250\n",
      "Prediction: 260 | Actual: 210 | Full Name: 8395| points: 210\n",
      "Prediction: 260 | Actual: 210 | Full Name: 8420| points: 210\n",
      "Prediction: 240 | Actual: 140 | Full Name: 8432| points: 140\n",
      "Prediction: 180 | Actual: 200 | Full Name: 8465| points: 200\n",
      "Prediction: 250 | Actual: 150 | Full Name: 8498| points: 150\n",
      "Prediction: 180 | Actual: 230 | Full Name: 8500| points: 230\n",
      "Prediction: 100 | Actual: 40 | Full Name: 8501| points: 40\n",
      "Prediction: 1260 | Actual: 1250 | Full Name: 8506| points: 1250\n",
      "Prediction: 140 | Actual: 200 | Full Name: 8544| points: 200\n",
      "Prediction: 170 | Actual: 70 | Full Name: 8566| points: 70\n",
      "Prediction: 130 | Actual: 180 | Full Name: 8601| points: 180\n",
      "Prediction: 140 | Actual: 150 | Full Name: 8623| points: 150\n",
      "Prediction: 200 | Actual: 190 | Full Name: 8629| points: 190\n",
      "Prediction: 170 | Actual: 120 | Full Name: 8649| points: 120\n",
      "Prediction: 100 | Actual: 110 | Full Name: 8652| points: 110\n",
      "Prediction: 120 | Actual: 110 | Full Name: 8657| points: 110\n",
      "Prediction: 260 | Actual: 250 | Full Name: 8660| points: 250\n",
      "Prediction: 190 | Actual: 180 | Full Name: 8664| points: 180\n",
      "Prediction: 110 | Actual: 100 | Full Name: 8689| points: 100\n",
      "Prediction: 210 | Actual: 200 | Full Name: 8727| points: 200\n",
      "Prediction: 100 | Actual: 160 | Full Name: 8751| points: 160\n",
      "Prediction: 170 | Actual: 220 | Full Name: 8756| points: 220\n",
      "Prediction: 270 | Actual: 170 | Full Name: 8772| points: 170\n",
      "Prediction: 240 | Actual: 220 | Full Name: 8783| points: 220\n",
      "Prediction: 200 | Actual: 150 | Full Name: 8789| points: 150\n",
      "Prediction: 160 | Actual: 170 | Full Name: 8814| points: 170\n",
      "Prediction: 250 | Actual: 200 | Full Name: 8820| points: 200\n",
      "Prediction: 240 | Actual: 250 | Full Name: 8824| points: 250\n",
      "Prediction: 270 | Actual: 220 | Full Name: 8826| points: 220\n",
      "Prediction: 230 | Actual: 130 | Full Name: 8848| points: 130\n",
      "Prediction: 260 | Actual: 250 | Full Name: 8891| points: 250\n",
      "Prediction: 240 | Actual: 230 | Full Name: 8893| points: 230\n",
      "Prediction: 110 | Actual: 100 | Full Name: 8913| points: 100\n",
      "Prediction: 260 | Actual: 250 | Full Name: 8919| points: 250\n",
      "Prediction: 190 | Actual: 140 | Full Name: 8992| points: 140\n",
      "Prediction: 170 | Actual: 160 | Full Name: 9006| points: 160\n",
      "Prediction: 110 | Actual: 160 | Full Name: 9050| points: 160\n",
      "Prediction: 260 | Actual: 160 | Full Name: 9057| points: 160\n",
      "Prediction: 50 | Actual: 110 | Full Name: 9100| points: 110\n",
      "Prediction: 250 | Actual: 240 | Full Name: 9171| points: 240\n",
      "Prediction: 220 | Actual: 170 | Full Name: 9198| points: 170\n",
      "Prediction: 260 | Actual: 160 | Full Name: 9209| points: 160\n",
      "Prediction: 230 | Actual: 180 | Full Name: 9290| points: 180\n",
      "Prediction: 250 | Actual: 240 | Full Name: 9303| points: 240\n",
      "Prediction: 280 | Actual: 230 | Full Name: 9318| points: 230\n",
      "Prediction: 260 | Actual: 210 | Full Name: 9351| points: 210\n",
      "Prediction: 230 | Actual: 180 | Full Name: 9353| points: 180\n",
      "Prediction: 130 | Actual: 180 | Full Name: 9398| points: 180\n",
      "Prediction: 240 | Actual: 180 | Full Name: 9423| points: 180\n",
      "Prediction: 200 | Actual: 250 | Full Name: 9428| points: 250\n",
      "Prediction: 220 | Actual: 170 | Full Name: 9462| points: 170\n",
      "Prediction: 200 | Actual: 150 | Full Name: 9463| points: 150\n",
      "Prediction: 260 | Actual: 110 | Full Name: 9502| points: 110\n",
      "Prediction: 260 | Actual: 250 | Full Name: 9517| points: 250\n",
      "Prediction: 250 | Actual: 240 | Full Name: 9527| points: 240\n",
      "Prediction: 240 | Actual: 230 | Full Name: 9530| points: 230\n",
      "Prediction: 250 | Actual: 240 | Full Name: 9552| points: 240\n",
      "Prediction: 150 | Actual: 160 | Full Name: 9553| points: 160\n",
      "Prediction: 1210 | Actual: 1260 | Full Name: 9566| points: 1260\n",
      "Prediction: 250 | Actual: 240 | Full Name: 9591| points: 240\n",
      "Prediction: 260 | Actual: 210 | Full Name: 9598| points: 210\n",
      "Prediction: 270 | Actual: 220 | Full Name: 9617| points: 220\n",
      "Prediction: 1260 | Actual: 1190 | Full Name: 9625| points: 1190\n",
      "Prediction: 150 | Actual: 170 | Full Name: 9674| points: 170\n",
      "Prediction: 260 | Actual: 160 | Full Name: 9681| points: 160\n",
      "Prediction: 160 | Actual: 150 | Full Name: 9705| points: 150\n",
      "Prediction: 200 | Actual: 250 | Full Name: 9708| points: 250\n",
      "Prediction: 180 | Actual: 230 | Full Name: 9712| points: 230\n",
      "Prediction: 210 | Actual: 160 | Full Name: 9729| points: 160\n",
      "Prediction: 190 | Actual: 240 | Full Name: 9758| points: 240\n",
      "Prediction: 200 | Actual: 250 | Full Name: 9785| points: 250\n",
      "Prediction: 170 | Actual: 220 | Full Name: 9821| points: 220\n",
      "Prediction: 270 | Actual: 220 | Full Name: 9849| points: 220\n",
      "Prediction: 240 | Actual: 250 | Full Name: 9866| points: 250\n",
      "Prediction: 240 | Actual: 230 | Full Name: 9893| points: 230\n",
      "Prediction: 250 | Actual: 240 | Full Name: 9932| points: 240\n",
      "Prediction: 270 | Actual: 220 | Full Name: 9947| points: 220\n",
      "Prediction: 150 | Actual: 100 | Full Name: 9989| points: 100\n",
      "Prediction: 270 | Actual: 220 | Full Name: 9998| points: 220\n",
      "Total Mismatches: 93\n"
     ]
    }
   ],
   "source": [
    "#variable for total mismatches\n",
    "mis = 0\n",
    "\n",
    "#loop through all the predictions\n",
    "for index, prediction in enumerate(predictions):\n",
    "    #if the prediction is not equal to the actual value\n",
    "    if testdata_y.iloc[index] != prediction:\n",
    "        #get the full name of missmatch at that index\n",
    "        full_name = data.iloc[8001 + index]['full_name']\n",
    "        #get the points of missmatch at that index\n",
    "        points = data.iloc[8001 + index]['points']\n",
    "        #add 1 to total mismatches\n",
    "        mis=mis+1\n",
    "        #prints all the missmatches with it predicted value and the actual value and the full name\n",
    "        print(f\"Prediction: {prediction} | Actual: {testdata_y.iloc[index]} | Full Name: {full_name}| points: {points}\")\n",
    "#prints total mismatches\n",
    "print(f\"Total Mismatches: {mis}\")\n"
   ]
  }
 ],
 "metadata": {
  "kernelspec": {
   "display_name": "Python 3 (ipykernel)",
   "language": "python",
   "name": "python3"
  },
  "language_info": {
   "codemirror_mode": {
    "name": "ipython",
    "version": 3
   },
   "file_extension": ".py",
   "mimetype": "text/x-python",
   "name": "python",
   "nbconvert_exporter": "python",
   "pygments_lexer": "ipython3",
   "version": "3.12.0"
  }
 },
 "nbformat": 4,
 "nbformat_minor": 5
}
